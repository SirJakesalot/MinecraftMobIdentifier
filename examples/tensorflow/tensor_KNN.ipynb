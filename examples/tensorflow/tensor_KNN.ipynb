{
 "cells": [
  {
   "cell_type": "markdown",
   "metadata": {
    "deletable": true,
    "editable": true
   },
   "source": [
    "# Tensorflow K Nearest Neighbors Iris example\n",
    "\n",
    "## Useful Links\n",
    "* [aymericdamien's github](https://github.com/aymericdamien/TensorFlow-Examples/blob/master/notebooks/)\n",
    "* [nfmcclure's github]( https://github.com/nfmcclure/tensorflow_cookbook/blob/master/05_Nearest_Neighbor_Methods/02_Working_with_Nearest_Neighbors/02_nearest_neighbor.ipynb)"
   ]
  },
  {
   "cell_type": "code",
   "execution_count": 1,
   "metadata": {
    "collapsed": true,
    "deletable": true,
    "editable": true
   },
   "outputs": [],
   "source": [
    "import numpy as np\n",
    "import tensorflow as tf\n",
    "\n",
    "from sklearn import datasets\n",
    "from sklearn import metrics\n",
    "from sklearn import model_selection\n",
    "\n",
    "from sklearn.neighbors import KNeighborsClassifier\n",
    "\n",
    "from collections import Counter"
   ]
  },
  {
   "cell_type": "code",
   "execution_count": 2,
   "metadata": {
    "collapsed": true,
    "deletable": true,
    "editable": true
   },
   "outputs": [],
   "source": [
    "iris = np.genfromtxt('data/iris.txt', delimiter=None) # load the text file\n",
    "Y = iris[:,-1]   # target values is the last column\n",
    "X = iris[:,0:-1] # features are the other columns"
   ]
  },
  {
   "cell_type": "code",
   "execution_count": 3,
   "metadata": {
    "collapsed": true,
    "deletable": true,
    "editable": true
   },
   "outputs": [],
   "source": [
    "Xtr, Xte, Ytr, Yte = model_selection.train_test_split(X, Y, test_size=0.2, random_state=31)"
   ]
  },
  {
   "cell_type": "markdown",
   "metadata": {
    "deletable": true,
    "editable": true
   },
   "source": [
    "## Sklearn KNN"
   ]
  },
  {
   "cell_type": "code",
   "execution_count": 4,
   "metadata": {
    "collapsed": false,
    "deletable": true,
    "editable": true
   },
   "outputs": [
    {
     "name": "stdout",
     "output_type": "stream",
     "text": [
      "0.0333333333333\n"
     ]
    }
   ],
   "source": [
    "knn = KNeighborsClassifier().fit(Xtr, Ytr)\n",
    "Yhat = knn.predict(Xte)\n",
    "print(metrics.mean_squared_error(Yte, Yhat))"
   ]
  },
  {
   "cell_type": "markdown",
   "metadata": {
    "deletable": true,
    "editable": true
   },
   "source": [
    "## Tensorflow KNN"
   ]
  },
  {
   "cell_type": "code",
   "execution_count": 5,
   "metadata": {
    "collapsed": false,
    "deletable": true,
    "editable": true
   },
   "outputs": [],
   "source": [
    "# number of neighbors\n",
    "K=5\n",
    "\n",
    "# tf graph input\n",
    "xtr = tf.placeholder('float', shape=[None, 4])\n",
    "xte = tf.placeholder('float', shape=[4])\n",
    "\n",
    "# calc L1 distances\n",
    "distances = tf.reduce_sum(tf.abs(tf.add(xtr, tf.negative(xte))), reduction_indices=1)\n",
    "\n",
    "# k smallest values and their indexes\n",
    "k_vals, k_inds = tf.nn.top_k(tf.negative(distances), k=K)\n",
    "\n",
    "# predictions for the k smallest distances\n",
    "knn = tf.gather(Ytr, k_inds)\n",
    "\n",
    "# init the variables\n",
    "init = tf.global_variables_initializer()"
   ]
  },
  {
   "cell_type": "code",
   "execution_count": 6,
   "metadata": {
    "collapsed": false,
    "deletable": true,
    "editable": true
   },
   "outputs": [
    {
     "name": "stdout",
     "output_type": "stream",
     "text": [
      "Accuracy: 0.9666666666666667\n"
     ]
    }
   ],
   "source": [
    "accuracy = 0.\n",
    "# launch graph\n",
    "with tf.Session() as sess:\n",
    "    sess.run(init)\n",
    "    for i in range(len(Xte)):\n",
    "        # k nearest neighbors at that test point\n",
    "        neighbors = sess.run(knn, feed_dict={xtr: Xtr, xte: Xte[i, :]})\n",
    "        pred = Counter(neighbors).most_common(1)[0][0]\n",
    "        # print(\"Test\", i, \"Prediction:\", pred, \"True Class:\", Yte[i])\n",
    "        if pred == Yte[i]:\n",
    "            accuracy += 1\n",
    "            \n",
    "    accuracy /= len(Xte)\n",
    "    print(\"Accuracy:\", accuracy)"
   ]
  },
  {
   "cell_type": "code",
   "execution_count": null,
   "metadata": {
    "collapsed": true,
    "deletable": true,
    "editable": true
   },
   "outputs": [],
   "source": []
  }
 ],
 "metadata": {
  "kernelspec": {
   "display_name": "Python 3",
   "language": "python",
   "name": "python3"
  },
  "language_info": {
   "codemirror_mode": {
    "name": "ipython",
    "version": 3
   },
   "file_extension": ".py",
   "mimetype": "text/x-python",
   "name": "python",
   "nbconvert_exporter": "python",
   "pygments_lexer": "ipython3",
   "version": "3.5.2"
  }
 },
 "nbformat": 4,
 "nbformat_minor": 2
}
